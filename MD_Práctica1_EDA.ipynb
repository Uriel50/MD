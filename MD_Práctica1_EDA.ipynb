{
 "cells": [
  {
   "cell_type": "markdown",
   "metadata": {
    "id": "Zo6Nr9ApAOMF"
   },
   "source": [
    "# **Práctica 1: Análisis exploratorio de datos**\n",
    "\n",
    "Nombre:\n",
    "\n",
    "No. Cuenta:\n",
    "\n",
    "Email:"
   ]
  },
  {
   "cell_type": "markdown",
   "metadata": {
    "id": "ULNJnL1hDiT5"
   },
   "source": [
    "### **Contexto**\n",
    "\n",
    "El sector inmobiliario de Melbourne, Australia continúa en auge desde hace algunos años. \n",
    "Es de interés conocer la tendencia inmobiliaria en dicha ciudad debido a que cada vez es más difícil adquirir una unidad de 2 dormitorios a un precio razonable.\n",
    "\n",
    "**Objetivo:** Encontrar información de interés para predecir la próxima tendencia inmobiliaria en Melbourne.\n",
    "\n",
    "\n",
    "**Fuente de datos**\n",
    "\n",
    "* 1) Rooms: Número de habitaciones.\n",
    "* 2) Price: Precio en dolares.\n",
    "* 3) Method: S - propiedad vendida; SP - propiedad vendida antes; PI - propiedad transferida; PN - vendida antes no revelada; SN - vendida no revelada; NB - sin oferta; VB - oferta del proveedor; W - retirada antes de la subasta; SA - vendida después de subasta; SS - vendida después del precio de subasta no revelado. N/A - precio u oferta más alta no disponible.\n",
    "* 4) Type: br - dormitorio (s); h - casa, cabaña, villa, semi, terraza; u - unidad, dúplex; t - casa adosada; dev site – en desarrollo; o res - otro residencial.\n",
    "* 5) SellerG: Agente de bienes raíces.\n",
    "* 6) Date: Fecha de venta.\n",
    "* 7) Distance: Distancia del CBD (Centro de negocios).\n",
    "* 8) Regionname: Región general (oeste, noroeste, norte, noreste ...).\n",
    "* 9) Propertycount: Número de propiedades que existen en el suburbio.\n",
    "* 10) Bedroom2: Número de dormitorios (de otra fuente).\n",
    "* 11) Bathroom: Cantidad de baños.\n",
    "* 12) Car: Número de estacionamientos.\n",
    "* 13) Landsize: Tamaño del terreno.\n",
    "* 14) BuildingArea: Tamaño del edificio.\n",
    "* 15) CouncilArea: Consejo de gobierno de la zona (Municipio).\n"
   ]
  },
  {
   "cell_type": "markdown",
   "metadata": {
    "id": "uoY99zJ29vPO"
   },
   "source": [
    "### **Importar las bibliotecas y los datos**"
   ]
  },
  {
   "cell_type": "code",
   "execution_count": 1,
   "metadata": {
    "id": "s4Uf32pf_8NH"
   },
   "outputs": [],
   "source": [
    "import pandas as pd               # Para la manipulación y análisis de datos\n",
    "import numpy as np                # Para crear vectores y matrices n dimensionales\n",
    "import matplotlib.pyplot as plt   # Para la generación de gráficas a partir de los datos\n",
    "import seaborn as sns             # Para la visualización de datos basado en matplotlib\n",
    "%matplotlib inline                \n",
    "# Para generar y almacenar los gráficos dentro del cuaderno"
   ]
  },
  {
   "cell_type": "code",
   "execution_count": 3,
   "metadata": {
    "colab": {
     "base_uri": "https://localhost:8080/",
     "height": 713
    },
    "id": "Fj60_dEpDnCU",
    "outputId": "cc12a43b-8634-4a80-fc6a-da71eb487861"
   },
   "outputs": [
    {
     "data": {
      "text/html": [
       "<div>\n",
       "<style scoped>\n",
       "    .dataframe tbody tr th:only-of-type {\n",
       "        vertical-align: middle;\n",
       "    }\n",
       "\n",
       "    .dataframe tbody tr th {\n",
       "        vertical-align: top;\n",
       "    }\n",
       "\n",
       "    .dataframe thead th {\n",
       "        text-align: right;\n",
       "    }\n",
       "</style>\n",
       "<table border=\"1\" class=\"dataframe\">\n",
       "  <thead>\n",
       "    <tr style=\"text-align: right;\">\n",
       "      <th></th>\n",
       "      <th>AÑO</th>\n",
       "      <th>PERIODO</th>\n",
       "      <th>ESTADO</th>\n",
       "      <th>ESTACIÓN</th>\n",
       "      <th>DISTINTIVO</th>\n",
       "      <th>FRECUENCIA FM</th>\n",
       "      <th>POBLACION CUBIERTA (2020)</th>\n",
       "      <th>PORCENTAJE DE POBLACION NACIONAL CUBIERTA</th>\n",
       "    </tr>\n",
       "  </thead>\n",
       "  <tbody>\n",
       "    <tr>\n",
       "      <th>0</th>\n",
       "      <td>2022</td>\n",
       "      <td>Julio-Septiembre</td>\n",
       "      <td>Sinaloa</td>\n",
       "      <td>Mazatlan</td>\n",
       "      <td>XHSPRM-FM</td>\n",
       "      <td>103.5</td>\n",
       "      <td>500,348</td>\n",
       "      <td>0.45%</td>\n",
       "    </tr>\n",
       "    <tr>\n",
       "      <th>1</th>\n",
       "      <td>2022</td>\n",
       "      <td>Julio-Septiembre</td>\n",
       "      <td>Chiapas</td>\n",
       "      <td>Tapachula</td>\n",
       "      <td>XHSPRT-FM</td>\n",
       "      <td>101.1</td>\n",
       "      <td>650,673</td>\n",
       "      <td>0.58%</td>\n",
       "    </tr>\n",
       "    <tr>\n",
       "      <th>2</th>\n",
       "      <td>2022</td>\n",
       "      <td>Julio-Septiembre</td>\n",
       "      <td>Veracruz</td>\n",
       "      <td>Coatzacoalcos</td>\n",
       "      <td>XHTZA-FM</td>\n",
       "      <td>104.3</td>\n",
       "      <td>886,843</td>\n",
       "      <td>0.79%</td>\n",
       "    </tr>\n",
       "    <tr>\n",
       "      <th>3</th>\n",
       "      <td>2022</td>\n",
       "      <td>Julio-Septiembre</td>\n",
       "      <td>Colima</td>\n",
       "      <td>Colima</td>\n",
       "      <td>XHSPRC-FM</td>\n",
       "      <td>102.9</td>\n",
       "      <td>397,869</td>\n",
       "      <td>0.35%</td>\n",
       "    </tr>\n",
       "    <tr>\n",
       "      <th>4</th>\n",
       "      <td>2022</td>\n",
       "      <td>Octubre-Diciembre</td>\n",
       "      <td>Sinaloa</td>\n",
       "      <td>Mazatlan</td>\n",
       "      <td>XHSPRM-FM</td>\n",
       "      <td>103.5</td>\n",
       "      <td>500,348</td>\n",
       "      <td>0.45%</td>\n",
       "    </tr>\n",
       "    <tr>\n",
       "      <th>5</th>\n",
       "      <td>2022</td>\n",
       "      <td>Octubre-Diciembre</td>\n",
       "      <td>Chiapas</td>\n",
       "      <td>Tapachula</td>\n",
       "      <td>XHSPRT-FM</td>\n",
       "      <td>101.1</td>\n",
       "      <td>650,673</td>\n",
       "      <td>0.58%</td>\n",
       "    </tr>\n",
       "    <tr>\n",
       "      <th>6</th>\n",
       "      <td>2022</td>\n",
       "      <td>Octubre-Diciembre</td>\n",
       "      <td>Veracruz</td>\n",
       "      <td>Coatzacoalcos</td>\n",
       "      <td>XHTZA-FM</td>\n",
       "      <td>104.3</td>\n",
       "      <td>886,843</td>\n",
       "      <td>0.79%</td>\n",
       "    </tr>\n",
       "    <tr>\n",
       "      <th>7</th>\n",
       "      <td>2022</td>\n",
       "      <td>Octubre-Diciembre</td>\n",
       "      <td>Colima</td>\n",
       "      <td>Colima</td>\n",
       "      <td>XHSPRC-FM</td>\n",
       "      <td>102.9</td>\n",
       "      <td>397,869</td>\n",
       "      <td>0.35%</td>\n",
       "    </tr>\n",
       "  </tbody>\n",
       "</table>\n",
       "</div>"
      ],
      "text/plain": [
       "    AÑO            PERIODO    ESTADO       ESTACIÓN DISTINTIVO  FRECUENCIA FM  \\\n",
       "0  2022   Julio-Septiembre   Sinaloa       Mazatlan  XHSPRM-FM          103.5   \n",
       "1  2022   Julio-Septiembre   Chiapas      Tapachula  XHSPRT-FM          101.1   \n",
       "2  2022   Julio-Septiembre  Veracruz  Coatzacoalcos   XHTZA-FM          104.3   \n",
       "3  2022   Julio-Septiembre    Colima         Colima  XHSPRC-FM          102.9   \n",
       "4  2022  Octubre-Diciembre   Sinaloa       Mazatlan  XHSPRM-FM          103.5   \n",
       "5  2022  Octubre-Diciembre   Chiapas      Tapachula  XHSPRT-FM          101.1   \n",
       "6  2022  Octubre-Diciembre  Veracruz  Coatzacoalcos   XHTZA-FM          104.3   \n",
       "7  2022  Octubre-Diciembre    Colima         Colima  XHSPRC-FM          102.9   \n",
       "\n",
       "  POBLACION CUBIERTA (2020) PORCENTAJE DE POBLACION NACIONAL CUBIERTA  \n",
       "0                   500,348                                     0.45%  \n",
       "1                   650,673                                     0.58%  \n",
       "2                   886,843                                     0.79%  \n",
       "3                   397,869                                     0.35%  \n",
       "4                   500,348                                     0.45%  \n",
       "5                   650,673                                     0.58%  \n",
       "6                   886,843                                     0.79%  \n",
       "7                   397,869                                     0.35%  "
      ]
     },
     "execution_count": 3,
     "metadata": {},
     "output_type": "execute_result"
    }
   ],
   "source": [
    "DatosMelbourne = pd.read_csv(\"spr_cobertura_estaciones_fm_altavoz.csv\", encoding='latin-1')\n",
    "DatosMelbourne"
   ]
  },
  {
   "cell_type": "markdown",
   "metadata": {
    "id": "qVrYEOOxFGJs"
   },
   "source": [
    "Tipo:\n",
    "\n",
    "br - dormitorio(s);\n",
    "\n",
    "h - casa, cabaña, villa, semi, terraza; \n",
    "\n",
    "u - unidad, dúplex; \n",
    "\n",
    "t - casa adosada; \n",
    "\n",
    "dev site - sitio de desarrollo; o \n",
    "\n",
    "res - otro residencial."
   ]
  },
  {
   "cell_type": "code",
   "execution_count": 4,
   "metadata": {
    "colab": {
     "base_uri": "https://localhost:8080/",
     "height": 653
    },
    "id": "vZohACVGEzMr",
    "outputId": "899e5045-fc7d-42dc-865d-15ebb0dd8160"
   },
   "outputs": [
    {
     "data": {
      "text/html": [
       "<div>\n",
       "<style scoped>\n",
       "    .dataframe tbody tr th:only-of-type {\n",
       "        vertical-align: middle;\n",
       "    }\n",
       "\n",
       "    .dataframe tbody tr th {\n",
       "        vertical-align: top;\n",
       "    }\n",
       "\n",
       "    .dataframe thead th {\n",
       "        text-align: right;\n",
       "    }\n",
       "</style>\n",
       "<table border=\"1\" class=\"dataframe\">\n",
       "  <thead>\n",
       "    <tr style=\"text-align: right;\">\n",
       "      <th></th>\n",
       "      <th>AÑO</th>\n",
       "      <th>PERIODO</th>\n",
       "      <th>ESTADO</th>\n",
       "      <th>ESTACIÓN</th>\n",
       "      <th>DISTINTIVO</th>\n",
       "      <th>FRECUENCIA FM</th>\n",
       "      <th>POBLACION CUBIERTA (2020)</th>\n",
       "      <th>PORCENTAJE DE POBLACION NACIONAL CUBIERTA</th>\n",
       "    </tr>\n",
       "  </thead>\n",
       "  <tbody>\n",
       "    <tr>\n",
       "      <th>0</th>\n",
       "      <td>2022</td>\n",
       "      <td>Julio-Septiembre</td>\n",
       "      <td>Sinaloa</td>\n",
       "      <td>Mazatlan</td>\n",
       "      <td>XHSPRM-FM</td>\n",
       "      <td>103.5</td>\n",
       "      <td>500,348</td>\n",
       "      <td>0.45%</td>\n",
       "    </tr>\n",
       "    <tr>\n",
       "      <th>1</th>\n",
       "      <td>2022</td>\n",
       "      <td>Julio-Septiembre</td>\n",
       "      <td>Chiapas</td>\n",
       "      <td>Tapachula</td>\n",
       "      <td>XHSPRT-FM</td>\n",
       "      <td>101.1</td>\n",
       "      <td>650,673</td>\n",
       "      <td>0.58%</td>\n",
       "    </tr>\n",
       "    <tr>\n",
       "      <th>2</th>\n",
       "      <td>2022</td>\n",
       "      <td>Julio-Septiembre</td>\n",
       "      <td>Veracruz</td>\n",
       "      <td>Coatzacoalcos</td>\n",
       "      <td>XHTZA-FM</td>\n",
       "      <td>104.3</td>\n",
       "      <td>886,843</td>\n",
       "      <td>0.79%</td>\n",
       "    </tr>\n",
       "    <tr>\n",
       "      <th>3</th>\n",
       "      <td>2022</td>\n",
       "      <td>Julio-Septiembre</td>\n",
       "      <td>Colima</td>\n",
       "      <td>Colima</td>\n",
       "      <td>XHSPRC-FM</td>\n",
       "      <td>102.9</td>\n",
       "      <td>397,869</td>\n",
       "      <td>0.35%</td>\n",
       "    </tr>\n",
       "    <tr>\n",
       "      <th>4</th>\n",
       "      <td>2022</td>\n",
       "      <td>Octubre-Diciembre</td>\n",
       "      <td>Sinaloa</td>\n",
       "      <td>Mazatlan</td>\n",
       "      <td>XHSPRM-FM</td>\n",
       "      <td>103.5</td>\n",
       "      <td>500,348</td>\n",
       "      <td>0.45%</td>\n",
       "    </tr>\n",
       "    <tr>\n",
       "      <th>5</th>\n",
       "      <td>2022</td>\n",
       "      <td>Octubre-Diciembre</td>\n",
       "      <td>Chiapas</td>\n",
       "      <td>Tapachula</td>\n",
       "      <td>XHSPRT-FM</td>\n",
       "      <td>101.1</td>\n",
       "      <td>650,673</td>\n",
       "      <td>0.58%</td>\n",
       "    </tr>\n",
       "    <tr>\n",
       "      <th>6</th>\n",
       "      <td>2022</td>\n",
       "      <td>Octubre-Diciembre</td>\n",
       "      <td>Veracruz</td>\n",
       "      <td>Coatzacoalcos</td>\n",
       "      <td>XHTZA-FM</td>\n",
       "      <td>104.3</td>\n",
       "      <td>886,843</td>\n",
       "      <td>0.79%</td>\n",
       "    </tr>\n",
       "    <tr>\n",
       "      <th>7</th>\n",
       "      <td>2022</td>\n",
       "      <td>Octubre-Diciembre</td>\n",
       "      <td>Colima</td>\n",
       "      <td>Colima</td>\n",
       "      <td>XHSPRC-FM</td>\n",
       "      <td>102.9</td>\n",
       "      <td>397,869</td>\n",
       "      <td>0.35%</td>\n",
       "    </tr>\n",
       "  </tbody>\n",
       "</table>\n",
       "</div>"
      ],
      "text/plain": [
       "    AÑO            PERIODO    ESTADO       ESTACIÓN DISTINTIVO  FRECUENCIA FM  \\\n",
       "0  2022   Julio-Septiembre   Sinaloa       Mazatlan  XHSPRM-FM          103.5   \n",
       "1  2022   Julio-Septiembre   Chiapas      Tapachula  XHSPRT-FM          101.1   \n",
       "2  2022   Julio-Septiembre  Veracruz  Coatzacoalcos   XHTZA-FM          104.3   \n",
       "3  2022   Julio-Septiembre    Colima         Colima  XHSPRC-FM          102.9   \n",
       "4  2022  Octubre-Diciembre   Sinaloa       Mazatlan  XHSPRM-FM          103.5   \n",
       "5  2022  Octubre-Diciembre   Chiapas      Tapachula  XHSPRT-FM          101.1   \n",
       "6  2022  Octubre-Diciembre  Veracruz  Coatzacoalcos   XHTZA-FM          104.3   \n",
       "7  2022  Octubre-Diciembre    Colima         Colima  XHSPRC-FM          102.9   \n",
       "\n",
       "  POBLACION CUBIERTA (2020) PORCENTAJE DE POBLACION NACIONAL CUBIERTA  \n",
       "0                   500,348                                     0.45%  \n",
       "1                   650,673                                     0.58%  \n",
       "2                   886,843                                     0.79%  \n",
       "3                   397,869                                     0.35%  \n",
       "4                   500,348                                     0.45%  \n",
       "5                   650,673                                     0.58%  \n",
       "6                   886,843                                     0.79%  \n",
       "7                   397,869                                     0.35%  "
      ]
     },
     "execution_count": 4,
     "metadata": {},
     "output_type": "execute_result"
    }
   ],
   "source": [
    "DatosMelbourne.head(10)\n",
    "#DatosMelbourne.tail(10) diez elementos"
   ]
  },
  {
   "cell_type": "markdown",
   "metadata": {
    "id": "Js0s5f9EE-90"
   },
   "source": [
    "Método:\n",
    "\n",
    "S - propiedad vendida; \n",
    "SP - propiedad vendida antes; \n",
    "PI - propiedad transferida; \n",
    "PN - vendido antes no revelado; \n",
    "SN - vendido no revelado; \n",
    "NB - sin oferta; \n",
    "VB - oferta del proveedor; \n",
    "W - retirado antes de la subasta; \n",
    "SA - vendido después de subasta; \n",
    "SS - vendido después del precio de subasta no revelado. \n",
    "N/A - precio o oferta más alta no disponible."
   ]
  },
  {
   "cell_type": "markdown",
   "metadata": {
    "id": "GcezVK6oH-uv"
   },
   "source": [
    "### **Paso 1: Descripción de la estructura de los datos**\n",
    "\n",
    "1) Forma (dimensiones) del DataFrame\n",
    "\n",
    "El atributo .shape de Pandas proporciona una estructura general de los datos. Devuelve la cantidad de filas y columnas que tiene el conjunto de datos."
   ]
  },
  {
   "cell_type": "code",
   "execution_count": 5,
   "metadata": {
    "colab": {
     "base_uri": "https://localhost:8080/"
    },
    "id": "PEqJIhlxIzVZ",
    "outputId": "31536880-d0c3-431d-824b-bd12f75deba0"
   },
   "outputs": [
    {
     "data": {
      "text/plain": [
       "(8, 8)"
      ]
     },
     "execution_count": 5,
     "metadata": {},
     "output_type": "execute_result"
    }
   ],
   "source": [
    "DatosMelbourne.shape"
   ]
  },
  {
   "cell_type": "markdown",
   "metadata": {
    "id": "8-cnllY2JTV1"
   },
   "source": [
    "2) Tipos de datos (variables)\n",
    "\n",
    "El atributo .dtypes muestra los tipos de datos de las columnas (variables y tipos)."
   ]
  },
  {
   "cell_type": "code",
   "execution_count": 6,
   "metadata": {
    "colab": {
     "base_uri": "https://localhost:8080/"
    },
    "id": "BFYuK9rQJXn6",
    "outputId": "7b135c22-3707-4fdf-eee1-ed0c018029b0"
   },
   "outputs": [
    {
     "data": {
      "text/plain": [
       "AÑO                                            int64\n",
       "PERIODO                                       object\n",
       "ESTADO                                        object\n",
       "ESTACIÓN                                      object\n",
       "DISTINTIVO                                    object\n",
       "FRECUENCIA FM                                float64\n",
       "POBLACION CUBIERTA (2020)                     object\n",
       "PORCENTAJE DE POBLACION NACIONAL CUBIERTA     object\n",
       "dtype: object"
      ]
     },
     "execution_count": 6,
     "metadata": {},
     "output_type": "execute_result"
    }
   ],
   "source": [
    "DatosMelbourne.dtypes"
   ]
  },
  {
   "cell_type": "markdown",
   "metadata": {
    "id": "LqPT5W0xJksm"
   },
   "source": [
    "Se observa que el conjunto de datos tiene una combinación de variables categóricas (objeto) y numéricas (flotante e int)."
   ]
  },
  {
   "cell_type": "markdown",
   "metadata": {
    "id": "fbdpOwumIrDp"
   },
   "source": [
    "### **Paso 2: Identificación de datos faltantes**\n",
    "\n",
    "Una función útil de pandas es **.isnull().sum()** que regresa la suma de todos los valores nulos en cada variable."
   ]
  },
  {
   "cell_type": "code",
   "execution_count": 7,
   "metadata": {
    "colab": {
     "base_uri": "https://localhost:8080/"
    },
    "id": "nI1d8izYJ9ni",
    "outputId": "d08c826b-5972-47d5-faa1-dd70898465da"
   },
   "outputs": [
    {
     "data": {
      "text/plain": [
       "AÑO                                          0\n",
       "PERIODO                                      0\n",
       "ESTADO                                       0\n",
       "ESTACIÓN                                     0\n",
       "DISTINTIVO                                   0\n",
       "FRECUENCIA FM                                0\n",
       "POBLACION CUBIERTA (2020)                    0\n",
       "PORCENTAJE DE POBLACION NACIONAL CUBIERTA    0\n",
       "dtype: int64"
      ]
     },
     "execution_count": 7,
     "metadata": {},
     "output_type": "execute_result"
    }
   ],
   "source": [
    "DatosMelbourne.isnull().sum()"
   ]
  },
  {
   "cell_type": "markdown",
   "metadata": {
    "id": "DSeHVLdbH9BF"
   },
   "source": [
    "También se puede usar **info()** para obtener el tipo de datos y la suma de valores nulos."
   ]
  },
  {
   "cell_type": "code",
   "execution_count": 8,
   "metadata": {
    "colab": {
     "base_uri": "https://localhost:8080/"
    },
    "id": "3i0-YIF0KMzF",
    "outputId": "63459b2f-7d13-4b99-846e-309b55c65933"
   },
   "outputs": [
    {
     "name": "stdout",
     "output_type": "stream",
     "text": [
      "<class 'pandas.core.frame.DataFrame'>\n",
      "RangeIndex: 8 entries, 0 to 7\n",
      "Data columns (total 8 columns):\n",
      " #   Column                                     Non-Null Count  Dtype  \n",
      "---  ------                                     --------------  -----  \n",
      " 0   AÑO                                        8 non-null      int64  \n",
      " 1   PERIODO                                    8 non-null      object \n",
      " 2   ESTADO                                     8 non-null      object \n",
      " 3   ESTACIÓN                                   8 non-null      object \n",
      " 4   DISTINTIVO                                 8 non-null      object \n",
      " 5   FRECUENCIA FM                              8 non-null      float64\n",
      " 6   POBLACION CUBIERTA (2020)                  8 non-null      object \n",
      " 7   PORCENTAJE DE POBLACION NACIONAL CUBIERTA  8 non-null      object \n",
      "dtypes: float64(1), int64(1), object(6)\n",
      "memory usage: 640.0+ bytes\n"
     ]
    }
   ],
   "source": [
    "DatosMelbourne.info()"
   ]
  },
  {
   "cell_type": "markdown",
   "metadata": {
    "id": "3UFHKSG2It_D"
   },
   "source": [
    "# **Paso 3: Detección de valores atípicos**\n",
    "\n",
    "Se pueden utilizar gráficos para tener una idea general de las distribuciones de los datos, y se sacan estadísticas para resumir los datos. Estas dos estrategias son recomendables y se complementan.\n",
    "\n",
    "La distribución se refiere a cómo se distribuyen los valores en una variable o con qué frecuencia ocurren.\n",
    "\n",
    "Para las variables numéricas, se observa cuántas veces aparecen grupos de números en una columna. Mientras que para las variables categóricas, son las clases de cada columna y su frecuencia."
   ]
  },
  {
   "cell_type": "markdown",
   "metadata": {
    "id": "XXGWHIN8hcEk"
   },
   "source": [
    "**1) Distribución de variables numéricas**\n",
    "\n",
    "* Se utilizan histogramas que agrupan los números en rangos.\n",
    "* La altura de una barra muestra cuántos números caen en ese rango. \n",
    "* Se emplea **hist()** para trazar el histograma de las variables numéricas. También se pueden usar los parámetros: **figsize** y **xrot** para aumentar el tamaño de la cuadrícula y rotar el eje x 45 grados."
   ]
  },
  {
   "cell_type": "code",
   "execution_count": 9,
   "metadata": {
    "colab": {
     "base_uri": "https://localhost:8080/",
     "height": 844
    },
    "id": "gPZ2ls_VhqXm",
    "outputId": "32b2abab-d184-4f85-80e9-d78349f66a17"
   },
   "outputs": [
    {
     "data": {
      "image/png": "[encoded data removed]",
      "text/plain": [
       "<Figure size 1400x1400 with 2 Axes>"
      ]
     },
     "metadata": {},
     "output_type": "display_data"
    }
   ],
   "source": [
    "DatosMelbourne.hist(figsize=(14,14), xrot=45)\n",
    "plt.show()"
   ]
  },
  {
   "cell_type": "markdown",
   "metadata": {
    "id": "Png--NKNigVz"
   },
   "source": [
    "**Qué buscar:**\n",
    "\n",
    "* Posibles valores atípicos, que pueden ser errores de medición.\n",
    "* Límites que no tienen sentido, como valores porcentuales > 100.\n",
    "\n",
    "En el histograma, se observa que **BuildingArea** y **LandSize** tienen valores sesgados a la izquierda. La variable **Price** también está sesgada hacia la izquierda. **YearBuilt** está sesgado hacia la derecha y el límite comienza en 1200, lo cual es extraño."
   ]
  },
  {
   "cell_type": "markdown",
   "metadata": {
    "id": "kcoFF4zwi5Z3"
   },
   "source": [
    "**2) Resumen estadístico de variables numéricas**\n",
    "\n",
    "Se sacan estadísticas usando **describe()** que muestra un resumen estadístico de las variables numéricas."
   ]
  },
  {
   "cell_type": "code",
   "execution_count": 10,
   "metadata": {
    "colab": {
     "base_uri": "https://localhost:8080/",
     "height": 364
    },
    "id": "iMYq7Xjki6_0",
    "outputId": "98060c12-ceda-41f2-835a-ccf8becc5f8f"
   },
   "outputs": [
    {
     "data": {
      "text/html": [
       "<div>\n",
       "<style scoped>\n",
       "    .dataframe tbody tr th:only-of-type {\n",
       "        vertical-align: middle;\n",
       "    }\n",
       "\n",
       "    .dataframe tbody tr th {\n",
       "        vertical-align: top;\n",
       "    }\n",
       "\n",
       "    .dataframe thead th {\n",
       "        text-align: right;\n",
       "    }\n",
       "</style>\n",
       "<table border=\"1\" class=\"dataframe\">\n",
       "  <thead>\n",
       "    <tr style=\"text-align: right;\">\n",
       "      <th></th>\n",
       "      <th>AÑO</th>\n",
       "      <th>FRECUENCIA FM</th>\n",
       "    </tr>\n",
       "  </thead>\n",
       "  <tbody>\n",
       "    <tr>\n",
       "      <th>count</th>\n",
       "      <td>8.0</td>\n",
       "      <td>8.000000</td>\n",
       "    </tr>\n",
       "    <tr>\n",
       "      <th>mean</th>\n",
       "      <td>2022.0</td>\n",
       "      <td>102.950000</td>\n",
       "    </tr>\n",
       "    <tr>\n",
       "      <th>std</th>\n",
       "      <td>0.0</td>\n",
       "      <td>1.259251</td>\n",
       "    </tr>\n",
       "    <tr>\n",
       "      <th>min</th>\n",
       "      <td>2022.0</td>\n",
       "      <td>101.100000</td>\n",
       "    </tr>\n",
       "    <tr>\n",
       "      <th>25%</th>\n",
       "      <td>2022.0</td>\n",
       "      <td>102.450000</td>\n",
       "    </tr>\n",
       "    <tr>\n",
       "      <th>50%</th>\n",
       "      <td>2022.0</td>\n",
       "      <td>103.200000</td>\n",
       "    </tr>\n",
       "    <tr>\n",
       "      <th>75%</th>\n",
       "      <td>2022.0</td>\n",
       "      <td>103.700000</td>\n",
       "    </tr>\n",
       "    <tr>\n",
       "      <th>max</th>\n",
       "      <td>2022.0</td>\n",
       "      <td>104.300000</td>\n",
       "    </tr>\n",
       "  </tbody>\n",
       "</table>\n",
       "</div>"
      ],
      "text/plain": [
       "          AÑO  FRECUENCIA FM\n",
       "count     8.0       8.000000\n",
       "mean   2022.0     102.950000\n",
       "std       0.0       1.259251\n",
       "min    2022.0     101.100000\n",
       "25%    2022.0     102.450000\n",
       "50%    2022.0     103.200000\n",
       "75%    2022.0     103.700000\n",
       "max    2022.0     104.300000"
      ]
     },
     "execution_count": 10,
     "metadata": {},
     "output_type": "execute_result"
    }
   ],
   "source": [
    "DatosMelbourne.describe()"
   ]
  },
  {
   "cell_type": "markdown",
   "metadata": {
    "id": "xM7pCf-VjHfX"
   },
   "source": [
    "* Se incluye un recuento, media, desviación, valor mínimo, valor máximo, percentil inferior (25%), 50% y percentil superior (75%).\n",
    "* Por defecto, el percentil 50 es lo mismo que la mediana.\n",
    "* Se observa que para cada variable, el recuento también ayuda a identificar variables con valores perdidos. Estos son: **Car**, **Landsize** y **YearBuilt**."
   ]
  },
  {
   "cell_type": "markdown",
   "metadata": {
    "id": "PcOVoZsvjToG"
   },
   "source": [
    "**3) Diagramas para detectar posibles valores atípicos**\n",
    "\n",
    "Para este tipo de gráficos se utiliza **Seaborn**, que permite generar diagramas de cajas para detectar valores atípicos."
   ]
  },
  {
   "cell_type": "code",
   "execution_count": 24,
   "metadata": {
    "colab": {
     "base_uri": "https://localhost:8080/",
     "height": 1000
    },
    "id": "ANZprC0sjhgu",
    "outputId": "034b1488-8f75-44fb-838b-8786a84dc350",
    "scrolled": true
   },
   "outputs": [
    {
     "data": {
      "image/png": "[encoded data removed]",
      "text/plain": [
       "<Figure size 640x480 with 1 Axes>"
      ]
     },
     "metadata": {},
     "output_type": "display_data"
    }
   ],
   "source": [
    "variable = ['FRECUENCIA FM']\n",
    "for col in variable:\n",
    "    sns.boxplot(x=col, data=DatosMelbourne)\n",
    "    plt.show()"
   ]
  },
  {
   "cell_type": "markdown",
   "metadata": {
    "id": "l8cl8XN6oq1-"
   },
   "source": [
    "Se observa que Landsize, Buildingarea y YearBuilt tienen valores atípicos que están lejos de los otros valores."
   ]
  },
  {
   "cell_type": "markdown",
   "metadata": {
    "id": "-tRvxGmDlVAh"
   },
   "source": [
    "**4) Distribución de variables categóricas**\n",
    "\n",
    "Se refiere a la observación de las clases de cada columna (variable) y su frecuencia. Aquí, los gráficos ayudan para tener una idea general de las distribuciones, mientras que las estadísticas dan números reales."
   ]
  },
  {
   "cell_type": "code",
   "execution_count": 25,
   "metadata": {
    "colab": {
     "base_uri": "https://localhost:8080/",
     "height": 175
    },
    "id": "jk-mkeGtlW5_",
    "outputId": "271a3dca-e76a-48d3-c539-9923a14da502"
   },
   "outputs": [
    {
     "data": {
      "text/html": [
       "<div>\n",
       "<style scoped>\n",
       "    .dataframe tbody tr th:only-of-type {\n",
       "        vertical-align: middle;\n",
       "    }\n",
       "\n",
       "    .dataframe tbody tr th {\n",
       "        vertical-align: top;\n",
       "    }\n",
       "\n",
       "    .dataframe thead th {\n",
       "        text-align: right;\n",
       "    }\n",
       "</style>\n",
       "<table border=\"1\" class=\"dataframe\">\n",
       "  <thead>\n",
       "    <tr style=\"text-align: right;\">\n",
       "      <th></th>\n",
       "      <th>PERIODO</th>\n",
       "      <th>ESTADO</th>\n",
       "      <th>ESTACIÓN</th>\n",
       "      <th>DISTINTIVO</th>\n",
       "      <th>POBLACION CUBIERTA (2020)</th>\n",
       "      <th>PORCENTAJE DE POBLACION NACIONAL CUBIERTA</th>\n",
       "    </tr>\n",
       "  </thead>\n",
       "  <tbody>\n",
       "    <tr>\n",
       "      <th>count</th>\n",
       "      <td>8</td>\n",
       "      <td>8</td>\n",
       "      <td>8</td>\n",
       "      <td>8</td>\n",
       "      <td>8</td>\n",
       "      <td>8</td>\n",
       "    </tr>\n",
       "    <tr>\n",
       "      <th>unique</th>\n",
       "      <td>2</td>\n",
       "      <td>4</td>\n",
       "      <td>4</td>\n",
       "      <td>4</td>\n",
       "      <td>4</td>\n",
       "      <td>4</td>\n",
       "    </tr>\n",
       "    <tr>\n",
       "      <th>top</th>\n",
       "      <td>Julio-Septiembre</td>\n",
       "      <td>Sinaloa</td>\n",
       "      <td>Mazatlan</td>\n",
       "      <td>XHSPRM-FM</td>\n",
       "      <td>500,348</td>\n",
       "      <td>0.45%</td>\n",
       "    </tr>\n",
       "    <tr>\n",
       "      <th>freq</th>\n",
       "      <td>4</td>\n",
       "      <td>2</td>\n",
       "      <td>2</td>\n",
       "      <td>2</td>\n",
       "      <td>2</td>\n",
       "      <td>2</td>\n",
       "    </tr>\n",
       "  </tbody>\n",
       "</table>\n",
       "</div>"
      ],
      "text/plain": [
       "                 PERIODO   ESTADO  ESTACIÓN DISTINTIVO  \\\n",
       "count                  8        8         8          8   \n",
       "unique                 2        4         4          4   \n",
       "top     Julio-Septiembre  Sinaloa  Mazatlan  XHSPRM-FM   \n",
       "freq                   4        2         2          2   \n",
       "\n",
       "       POBLACION CUBIERTA (2020) PORCENTAJE DE POBLACION NACIONAL CUBIERTA  \n",
       "count                          8                                         8  \n",
       "unique                         4                                         4  \n",
       "top                      500,348                                     0.45%  \n",
       "freq                           2                                         2  "
      ]
     },
     "execution_count": 25,
     "metadata": {},
     "output_type": "execute_result"
    }
   ],
   "source": [
    "DatosMelbourne.describe(include='object')"
   ]
  },
  {
   "cell_type": "markdown",
   "metadata": {
    "id": "YbBE5RS0lmvH"
   },
   "source": [
    "* Esta tabla es diferente al de los valores numéricos. Aquí, se obtiene el recuento de los valores de cada variable, el número de clases únicas, la clase más frecuente y con qué frecuencia ocurre esa clase en el conjunto de datos.\n",
    "* Se observa que algunas clases tienen demasiados valores únicos, como Address, seguida de Suburb y SellerG. \n",
    "* A partir de estos hallazgos, se puede a manera de ejemplo graficar las variables con 10 o menos clases únicas."
   ]
  },
  {
   "cell_type": "markdown",
   "metadata": {
    "id": "44ZG1kAGmInT"
   },
   "source": [
    "**Plot**\n",
    "\n",
    "* Para este tipo de gráficos se utiliza Seaborn, que permite generar un histograma para variables categóricas. Cada barra en el gráfico de conteo representa una clase.\n",
    "* Se crea un bucle para el conteo y distribución de las clases. La sentencia select_dtypes(include = ’object’) selecciona las columnas categóricas con sus valores y las muestra.\n",
    "* Se incluye también If para elegir solo las tres columnas con 10 o menos clases usando series.**nunique() < 10**.\n"
   ]
  },
  {
   "cell_type": "code",
   "execution_count": 26,
   "metadata": {
    "colab": {
     "base_uri": "https://localhost:8080/",
     "height": 803
    },
    "id": "g2Yd8brJnSl1",
    "outputId": "9c450085-5f8c-46a2-8bbc-3ebe4f67de2e"
   },
   "outputs": [
    {
     "data": {
      "image/png": "[encoded data removed]",
      "text/plain": [
       "<Figure size 640x480 with 1 Axes>"
      ]
     },
     "metadata": {},
     "output_type": "display_data"
    },
    {
     "data": {
      "image/png": "[encoded data removed]",
      "text/plain": [
       "<Figure size 640x480 with 1 Axes>"
      ]
     },
     "metadata": {},
     "output_type": "display_data"
    },
    {
     "data": {
      "image/png": "[encoded data removed]",
      "text/plain": [
       "<Figure size 640x480 with 1 Axes>"
      ]
     },
     "metadata": {},
     "output_type": "display_data"
    },
    {
     "data": {
      "image/png": "[encoded data removed]",
      "text/plain": [
       "<Figure size 640x480 with 1 Axes>"
      ]
     },
     "metadata": {},
     "output_type": "display_data"
    },
    {
     "data": {
      "image/png": "[encoded data removed]",
      "text/plain": [
       "<Figure size 640x480 with 1 Axes>"
      ]
     },
     "metadata": {},
     "output_type": "display_data"
    },
    {
     "data": {
      "image/png": "[encoded data removed]",
      "text/plain": [
       "<Figure size 640x480 with 1 Axes>"
      ]
     },
     "metadata": {},
     "output_type": "display_data"
    }
   ],
   "source": [
    "for col in DatosMelbourne.select_dtypes(include='object'):\n",
    "  if DatosMelbourne[col].nunique()<10:sns.countplot(y=col, data=DatosMelbourne)\n",
    "  plt.show()"
   ]
  },
  {
   "cell_type": "markdown",
   "metadata": {
    "id": "jSPCVQh9StZQ"
   },
   "source": [
    "**5) Agrupación por variables categóricas**\n",
    "\n",
    "\n",
    "\n"
   ]
  },
  {
   "cell_type": "code",
   "execution_count": 27,
   "metadata": {
    "colab": {
     "base_uri": "https://localhost:8080/",
     "height": 980
    },
    "id": "OW7PT8HAphYj",
    "outputId": "07e55c23-c605-4bb5-cf66-9ea1f443d9ac"
   },
   "outputs": [
    {
     "name": "stderr",
     "output_type": "stream",
     "text": [
      "C:\\Users\\Imanol\\AppData\\Local\\Temp\\ipykernel_4252\\1420516424.py:3: FutureWarning: ['ESTADO', 'ESTACIÓN', 'DISTINTIVO', 'POBLACION CUBIERTA (2020)', 'PORCENTAJE DE POBLACION NACIONAL CUBIERTA'] did not aggregate successfully. If any error is raised this will raise in a future version of pandas. Drop these columns/ops to avoid this warning.\n",
      "  display(DatosMelbourne.groupby(col).agg(['mean']))\n"
     ]
    },
    {
     "data": {
      "text/html": [
       "<div>\n",
       "<style scoped>\n",
       "    .dataframe tbody tr th:only-of-type {\n",
       "        vertical-align: middle;\n",
       "    }\n",
       "\n",
       "    .dataframe tbody tr th {\n",
       "        vertical-align: top;\n",
       "    }\n",
       "\n",
       "    .dataframe thead tr th {\n",
       "        text-align: left;\n",
       "    }\n",
       "\n",
       "    .dataframe thead tr:last-of-type th {\n",
       "        text-align: right;\n",
       "    }\n",
       "</style>\n",
       "<table border=\"1\" class=\"dataframe\">\n",
       "  <thead>\n",
       "    <tr>\n",
       "      <th></th>\n",
       "      <th>AÑO</th>\n",
       "      <th>FRECUENCIA FM</th>\n",
       "    </tr>\n",
       "    <tr>\n",
       "      <th></th>\n",
       "      <th>mean</th>\n",
       "      <th>mean</th>\n",
       "    </tr>\n",
       "    <tr>\n",
       "      <th>PERIODO</th>\n",
       "      <th></th>\n",
       "      <th></th>\n",
       "    </tr>\n",
       "  </thead>\n",
       "  <tbody>\n",
       "    <tr>\n",
       "      <th>Julio-Septiembre</th>\n",
       "      <td>2022.0</td>\n",
       "      <td>102.95</td>\n",
       "    </tr>\n",
       "    <tr>\n",
       "      <th>Octubre-Diciembre</th>\n",
       "      <td>2022.0</td>\n",
       "      <td>102.95</td>\n",
       "    </tr>\n",
       "  </tbody>\n",
       "</table>\n",
       "</div>"
      ],
      "text/plain": [
       "                      AÑO FRECUENCIA FM\n",
       "                     mean          mean\n",
       "PERIODO                                \n",
       "Julio-Septiembre   2022.0        102.95\n",
       "Octubre-Diciembre  2022.0        102.95"
      ]
     },
     "metadata": {},
     "output_type": "display_data"
    },
    {
     "name": "stderr",
     "output_type": "stream",
     "text": [
      "C:\\Users\\Imanol\\AppData\\Local\\Temp\\ipykernel_4252\\1420516424.py:3: FutureWarning: ['PERIODO', 'ESTACIÓN', 'DISTINTIVO', 'POBLACION CUBIERTA (2020)', 'PORCENTAJE DE POBLACION NACIONAL CUBIERTA'] did not aggregate successfully. If any error is raised this will raise in a future version of pandas. Drop these columns/ops to avoid this warning.\n",
      "  display(DatosMelbourne.groupby(col).agg(['mean']))\n"
     ]
    },
    {
     "data": {
      "text/html": [
       "<div>\n",
       "<style scoped>\n",
       "    .dataframe tbody tr th:only-of-type {\n",
       "        vertical-align: middle;\n",
       "    }\n",
       "\n",
       "    .dataframe tbody tr th {\n",
       "        vertical-align: top;\n",
       "    }\n",
       "\n",
       "    .dataframe thead tr th {\n",
       "        text-align: left;\n",
       "    }\n",
       "\n",
       "    .dataframe thead tr:last-of-type th {\n",
       "        text-align: right;\n",
       "    }\n",
       "</style>\n",
       "<table border=\"1\" class=\"dataframe\">\n",
       "  <thead>\n",
       "    <tr>\n",
       "      <th></th>\n",
       "      <th>AÑO</th>\n",
       "      <th>FRECUENCIA FM</th>\n",
       "    </tr>\n",
       "    <tr>\n",
       "      <th></th>\n",
       "      <th>mean</th>\n",
       "      <th>mean</th>\n",
       "    </tr>\n",
       "    <tr>\n",
       "      <th>ESTADO</th>\n",
       "      <th></th>\n",
       "      <th></th>\n",
       "    </tr>\n",
       "  </thead>\n",
       "  <tbody>\n",
       "    <tr>\n",
       "      <th>Chiapas</th>\n",
       "      <td>2022.0</td>\n",
       "      <td>101.1</td>\n",
       "    </tr>\n",
       "    <tr>\n",
       "      <th>Colima</th>\n",
       "      <td>2022.0</td>\n",
       "      <td>102.9</td>\n",
       "    </tr>\n",
       "    <tr>\n",
       "      <th>Sinaloa</th>\n",
       "      <td>2022.0</td>\n",
       "      <td>103.5</td>\n",
       "    </tr>\n",
       "    <tr>\n",
       "      <th>Veracruz</th>\n",
       "      <td>2022.0</td>\n",
       "      <td>104.3</td>\n",
       "    </tr>\n",
       "  </tbody>\n",
       "</table>\n",
       "</div>"
      ],
      "text/plain": [
       "             AÑO FRECUENCIA FM\n",
       "            mean          mean\n",
       "ESTADO                        \n",
       "Chiapas   2022.0         101.1\n",
       "Colima    2022.0         102.9\n",
       "Sinaloa   2022.0         103.5\n",
       "Veracruz  2022.0         104.3"
      ]
     },
     "metadata": {},
     "output_type": "display_data"
    },
    {
     "name": "stderr",
     "output_type": "stream",
     "text": [
      "C:\\Users\\Imanol\\AppData\\Local\\Temp\\ipykernel_4252\\1420516424.py:3: FutureWarning: ['PERIODO', 'ESTADO', 'DISTINTIVO', 'POBLACION CUBIERTA (2020)', 'PORCENTAJE DE POBLACION NACIONAL CUBIERTA'] did not aggregate successfully. If any error is raised this will raise in a future version of pandas. Drop these columns/ops to avoid this warning.\n",
      "  display(DatosMelbourne.groupby(col).agg(['mean']))\n"
     ]
    },
    {
     "data": {
      "text/html": [
       "<div>\n",
       "<style scoped>\n",
       "    .dataframe tbody tr th:only-of-type {\n",
       "        vertical-align: middle;\n",
       "    }\n",
       "\n",
       "    .dataframe tbody tr th {\n",
       "        vertical-align: top;\n",
       "    }\n",
       "\n",
       "    .dataframe thead tr th {\n",
       "        text-align: left;\n",
       "    }\n",
       "\n",
       "    .dataframe thead tr:last-of-type th {\n",
       "        text-align: right;\n",
       "    }\n",
       "</style>\n",
       "<table border=\"1\" class=\"dataframe\">\n",
       "  <thead>\n",
       "    <tr>\n",
       "      <th></th>\n",
       "      <th>AÑO</th>\n",
       "      <th>FRECUENCIA FM</th>\n",
       "    </tr>\n",
       "    <tr>\n",
       "      <th></th>\n",
       "      <th>mean</th>\n",
       "      <th>mean</th>\n",
       "    </tr>\n",
       "    <tr>\n",
       "      <th>ESTACIÓN</th>\n",
       "      <th></th>\n",
       "      <th></th>\n",
       "    </tr>\n",
       "  </thead>\n",
       "  <tbody>\n",
       "    <tr>\n",
       "      <th>Coatzacoalcos</th>\n",
       "      <td>2022.0</td>\n",
       "      <td>104.3</td>\n",
       "    </tr>\n",
       "    <tr>\n",
       "      <th>Colima</th>\n",
       "      <td>2022.0</td>\n",
       "      <td>102.9</td>\n",
       "    </tr>\n",
       "    <tr>\n",
       "      <th>Mazatlan</th>\n",
       "      <td>2022.0</td>\n",
       "      <td>103.5</td>\n",
       "    </tr>\n",
       "    <tr>\n",
       "      <th>Tapachula</th>\n",
       "      <td>2022.0</td>\n",
       "      <td>101.1</td>\n",
       "    </tr>\n",
       "  </tbody>\n",
       "</table>\n",
       "</div>"
      ],
      "text/plain": [
       "                  AÑO FRECUENCIA FM\n",
       "                 mean          mean\n",
       "ESTACIÓN                           \n",
       "Coatzacoalcos  2022.0         104.3\n",
       "Colima         2022.0         102.9\n",
       "Mazatlan       2022.0         103.5\n",
       "Tapachula      2022.0         101.1"
      ]
     },
     "metadata": {},
     "output_type": "display_data"
    },
    {
     "name": "stderr",
     "output_type": "stream",
     "text": [
      "C:\\Users\\Imanol\\AppData\\Local\\Temp\\ipykernel_4252\\1420516424.py:3: FutureWarning: ['PERIODO', 'ESTADO', 'ESTACIÓN', 'POBLACION CUBIERTA (2020)', 'PORCENTAJE DE POBLACION NACIONAL CUBIERTA'] did not aggregate successfully. If any error is raised this will raise in a future version of pandas. Drop these columns/ops to avoid this warning.\n",
      "  display(DatosMelbourne.groupby(col).agg(['mean']))\n"
     ]
    },
    {
     "data": {
      "text/html": [
       "<div>\n",
       "<style scoped>\n",
       "    .dataframe tbody tr th:only-of-type {\n",
       "        vertical-align: middle;\n",
       "    }\n",
       "\n",
       "    .dataframe tbody tr th {\n",
       "        vertical-align: top;\n",
       "    }\n",
       "\n",
       "    .dataframe thead tr th {\n",
       "        text-align: left;\n",
       "    }\n",
       "\n",
       "    .dataframe thead tr:last-of-type th {\n",
       "        text-align: right;\n",
       "    }\n",
       "</style>\n",
       "<table border=\"1\" class=\"dataframe\">\n",
       "  <thead>\n",
       "    <tr>\n",
       "      <th></th>\n",
       "      <th>AÑO</th>\n",
       "      <th>FRECUENCIA FM</th>\n",
       "    </tr>\n",
       "    <tr>\n",
       "      <th></th>\n",
       "      <th>mean</th>\n",
       "      <th>mean</th>\n",
       "    </tr>\n",
       "    <tr>\n",
       "      <th>DISTINTIVO</th>\n",
       "      <th></th>\n",
       "      <th></th>\n",
       "    </tr>\n",
       "  </thead>\n",
       "  <tbody>\n",
       "    <tr>\n",
       "      <th>XHSPRC-FM</th>\n",
       "      <td>2022.0</td>\n",
       "      <td>102.9</td>\n",
       "    </tr>\n",
       "    <tr>\n",
       "      <th>XHSPRM-FM</th>\n",
       "      <td>2022.0</td>\n",
       "      <td>103.5</td>\n",
       "    </tr>\n",
       "    <tr>\n",
       "      <th>XHSPRT-FM</th>\n",
       "      <td>2022.0</td>\n",
       "      <td>101.1</td>\n",
       "    </tr>\n",
       "    <tr>\n",
       "      <th>XHTZA-FM</th>\n",
       "      <td>2022.0</td>\n",
       "      <td>104.3</td>\n",
       "    </tr>\n",
       "  </tbody>\n",
       "</table>\n",
       "</div>"
      ],
      "text/plain": [
       "               AÑO FRECUENCIA FM\n",
       "              mean          mean\n",
       "DISTINTIVO                      \n",
       "XHSPRC-FM   2022.0         102.9\n",
       "XHSPRM-FM   2022.0         103.5\n",
       "XHSPRT-FM   2022.0         101.1\n",
       "XHTZA-FM    2022.0         104.3"
      ]
     },
     "metadata": {},
     "output_type": "display_data"
    },
    {
     "name": "stderr",
     "output_type": "stream",
     "text": [
      "C:\\Users\\Imanol\\AppData\\Local\\Temp\\ipykernel_4252\\1420516424.py:3: FutureWarning: ['PERIODO', 'ESTADO', 'ESTACIÓN', 'DISTINTIVO', 'PORCENTAJE DE POBLACION NACIONAL CUBIERTA'] did not aggregate successfully. If any error is raised this will raise in a future version of pandas. Drop these columns/ops to avoid this warning.\n",
      "  display(DatosMelbourne.groupby(col).agg(['mean']))\n"
     ]
    },
    {
     "data": {
      "text/html": [
       "<div>\n",
       "<style scoped>\n",
       "    .dataframe tbody tr th:only-of-type {\n",
       "        vertical-align: middle;\n",
       "    }\n",
       "\n",
       "    .dataframe tbody tr th {\n",
       "        vertical-align: top;\n",
       "    }\n",
       "\n",
       "    .dataframe thead tr th {\n",
       "        text-align: left;\n",
       "    }\n",
       "\n",
       "    .dataframe thead tr:last-of-type th {\n",
       "        text-align: right;\n",
       "    }\n",
       "</style>\n",
       "<table border=\"1\" class=\"dataframe\">\n",
       "  <thead>\n",
       "    <tr>\n",
       "      <th></th>\n",
       "      <th>AÑO</th>\n",
       "      <th>FRECUENCIA FM</th>\n",
       "    </tr>\n",
       "    <tr>\n",
       "      <th></th>\n",
       "      <th>mean</th>\n",
       "      <th>mean</th>\n",
       "    </tr>\n",
       "    <tr>\n",
       "      <th>POBLACION CUBIERTA (2020)</th>\n",
       "      <th></th>\n",
       "      <th></th>\n",
       "    </tr>\n",
       "  </thead>\n",
       "  <tbody>\n",
       "    <tr>\n",
       "      <th>397,869</th>\n",
       "      <td>2022.0</td>\n",
       "      <td>102.9</td>\n",
       "    </tr>\n",
       "    <tr>\n",
       "      <th>500,348</th>\n",
       "      <td>2022.0</td>\n",
       "      <td>103.5</td>\n",
       "    </tr>\n",
       "    <tr>\n",
       "      <th>650,673</th>\n",
       "      <td>2022.0</td>\n",
       "      <td>101.1</td>\n",
       "    </tr>\n",
       "    <tr>\n",
       "      <th>886,843</th>\n",
       "      <td>2022.0</td>\n",
       "      <td>104.3</td>\n",
       "    </tr>\n",
       "  </tbody>\n",
       "</table>\n",
       "</div>"
      ],
      "text/plain": [
       "                              AÑO FRECUENCIA FM\n",
       "                             mean          mean\n",
       "POBLACION CUBIERTA (2020)                      \n",
       "397,869                    2022.0         102.9\n",
       "500,348                    2022.0         103.5\n",
       "650,673                    2022.0         101.1\n",
       "886,843                    2022.0         104.3"
      ]
     },
     "metadata": {},
     "output_type": "display_data"
    },
    {
     "name": "stderr",
     "output_type": "stream",
     "text": [
      "C:\\Users\\Imanol\\AppData\\Local\\Temp\\ipykernel_4252\\1420516424.py:3: FutureWarning: ['PERIODO', 'ESTADO', 'ESTACIÓN', 'DISTINTIVO', 'POBLACION CUBIERTA (2020)'] did not aggregate successfully. If any error is raised this will raise in a future version of pandas. Drop these columns/ops to avoid this warning.\n",
      "  display(DatosMelbourne.groupby(col).agg(['mean']))\n"
     ]
    },
    {
     "data": {
      "text/html": [
       "<div>\n",
       "<style scoped>\n",
       "    .dataframe tbody tr th:only-of-type {\n",
       "        vertical-align: middle;\n",
       "    }\n",
       "\n",
       "    .dataframe tbody tr th {\n",
       "        vertical-align: top;\n",
       "    }\n",
       "\n",
       "    .dataframe thead tr th {\n",
       "        text-align: left;\n",
       "    }\n",
       "\n",
       "    .dataframe thead tr:last-of-type th {\n",
       "        text-align: right;\n",
       "    }\n",
       "</style>\n",
       "<table border=\"1\" class=\"dataframe\">\n",
       "  <thead>\n",
       "    <tr>\n",
       "      <th></th>\n",
       "      <th>AÑO</th>\n",
       "      <th>FRECUENCIA FM</th>\n",
       "    </tr>\n",
       "    <tr>\n",
       "      <th></th>\n",
       "      <th>mean</th>\n",
       "      <th>mean</th>\n",
       "    </tr>\n",
       "    <tr>\n",
       "      <th>PORCENTAJE DE POBLACION NACIONAL CUBIERTA</th>\n",
       "      <th></th>\n",
       "      <th></th>\n",
       "    </tr>\n",
       "  </thead>\n",
       "  <tbody>\n",
       "    <tr>\n",
       "      <th>0.35%</th>\n",
       "      <td>2022.0</td>\n",
       "      <td>102.9</td>\n",
       "    </tr>\n",
       "    <tr>\n",
       "      <th>0.45%</th>\n",
       "      <td>2022.0</td>\n",
       "      <td>103.5</td>\n",
       "    </tr>\n",
       "    <tr>\n",
       "      <th>0.58%</th>\n",
       "      <td>2022.0</td>\n",
       "      <td>101.1</td>\n",
       "    </tr>\n",
       "    <tr>\n",
       "      <th>0.79%</th>\n",
       "      <td>2022.0</td>\n",
       "      <td>104.3</td>\n",
       "    </tr>\n",
       "  </tbody>\n",
       "</table>\n",
       "</div>"
      ],
      "text/plain": [
       "                                              AÑO FRECUENCIA FM\n",
       "                                             mean          mean\n",
       "PORCENTAJE DE POBLACION NACIONAL CUBIERTA                      \n",
       "0.35%                                      2022.0         102.9\n",
       "0.45%                                      2022.0         103.5\n",
       "0.58%                                      2022.0         101.1\n",
       "0.79%                                      2022.0         104.3"
      ]
     },
     "metadata": {},
     "output_type": "display_data"
    }
   ],
   "source": [
    "for col in DatosMelbourne.select_dtypes(include='object'):\n",
    "  if DatosMelbourne[col].nunique() < 10:\n",
    "    display(DatosMelbourne.groupby(col).agg(['mean']))"
   ]
  },
  {
   "cell_type": "markdown",
   "metadata": {
    "id": "koHr8LNKIwc8"
   },
   "source": [
    "### **Paso 4: Identificación de relaciones entre pares variables**\n",
    "\n",
    "Una matriz de correlaciones es útil para analizar la relación entre las variables numéricas.\n",
    "Se emplea la función corr()"
   ]
  },
  {
   "cell_type": "code",
   "execution_count": 28,
   "metadata": {
    "colab": {
     "base_uri": "https://localhost:8080/",
     "height": 501
    },
    "id": "RT2Uqg7c0K2U",
    "outputId": "d798df13-59d5-4fd9-a5c9-00dcda4e7596"
   },
   "outputs": [
    {
     "data": {
      "text/html": [
       "<div>\n",
       "<style scoped>\n",
       "    .dataframe tbody tr th:only-of-type {\n",
       "        vertical-align: middle;\n",
       "    }\n",
       "\n",
       "    .dataframe tbody tr th {\n",
       "        vertical-align: top;\n",
       "    }\n",
       "\n",
       "    .dataframe thead th {\n",
       "        text-align: right;\n",
       "    }\n",
       "</style>\n",
       "<table border=\"1\" class=\"dataframe\">\n",
       "  <thead>\n",
       "    <tr style=\"text-align: right;\">\n",
       "      <th></th>\n",
       "      <th>AÑO</th>\n",
       "      <th>FRECUENCIA FM</th>\n",
       "    </tr>\n",
       "  </thead>\n",
       "  <tbody>\n",
       "    <tr>\n",
       "      <th>AÑO</th>\n",
       "      <td>NaN</td>\n",
       "      <td>NaN</td>\n",
       "    </tr>\n",
       "    <tr>\n",
       "      <th>FRECUENCIA FM</th>\n",
       "      <td>NaN</td>\n",
       "      <td>1.0</td>\n",
       "    </tr>\n",
       "  </tbody>\n",
       "</table>\n",
       "</div>"
      ],
      "text/plain": [
       "               AÑO  FRECUENCIA FM\n",
       "AÑO            NaN            NaN\n",
       "FRECUENCIA FM  NaN            1.0"
      ]
     },
     "execution_count": 28,
     "metadata": {},
     "output_type": "execute_result"
    }
   ],
   "source": [
    "DatosMelbourne.corr()"
   ]
  },
  {
   "cell_type": "code",
   "execution_count": 29,
   "metadata": {
    "colab": {
     "base_uri": "https://localhost:8080/",
     "height": 493
    },
    "id": "WxRCmEDNv2va",
    "outputId": "bd8cbaf3-9bfe-49a5-b023-88eac0d15152"
   },
   "outputs": [
    {
     "data": {
      "image/png": "[encoded data removed]",
      "text/plain": [
       "<Figure size 1400x700 with 2 Axes>"
      ]
     },
     "metadata": {},
     "output_type": "display_data"
    }
   ],
   "source": [
    "plt.figure(figsize=(14,7))\n",
    "sns.heatmap(DatosMelbourne.corr(), cmap='RdBu_r', annot=True)\n",
    "plt.show()"
   ]
  },
  {
   "cell_type": "code",
   "execution_count": 18,
   "metadata": {
    "colab": {
     "base_uri": "https://localhost:8080/",
     "height": 489
    },
    "id": "ZYoVHKJENzJ4",
    "outputId": "f073f3b6-0e9f-4044-abcd-f5ddd0e86a78"
   },
   "outputs": [
    {
     "data": {
      "image/png": "[encoded data removed]",
      "text/plain": [
       "<Figure size 1008x504 with 2 Axes>"
      ]
     },
     "metadata": {
      "needs_background": "light"
     },
     "output_type": "display_data"
    }
   ],
   "source": [
    "plt.figure(figsize=(14,7))\n",
    "MatrizInf = np.triu(DatosMelbourne.corr())\n",
    "sns.heatmap(DatosMelbourne.corr(), cmap='RdBu_r', annot=True, mask=MatrizInf)\n",
    "plt.show()"
   ]
  },
  {
   "cell_type": "markdown",
   "metadata": {
    "id": "O3EFccfqTUz8"
   },
   "source": [
    "* Una correlación es un valor entre -1 y 1 que equivale a qué tan cerca se mueven simultáneamente los valores de dos variables. \n",
    "* Una correlación positiva significa que a medida que una característica aumenta, la otra también aumenta.\n",
    "* Una correlación negativa significa que a medida que una característica disminuye, la otra también disminuye. \n",
    "* Las correlaciones cercanas a 0 indican una relación débil, mientras que las más cercanas a -1 o 1 significan una relación fuerte.\n"
   ]
  }
 ],
 "metadata": {
  "colab": {
   "provenance": []
  },
  "kernelspec": {
   "display_name": "Python 3 (ipykernel)",
   "language": "python",
   "name": "python3"
  },
  "language_info": {
   "codemirror_mode": {
    "name": "ipython",
    "version": 3
   },
   "file_extension": ".py",
   "mimetype": "text/x-python",
   "name": "python",
   "nbconvert_exporter": "python",
   "pygments_lexer": "ipython3",
   "version": "3.9.13"
  }
 },
 "nbformat": 4,
 "nbformat_minor": 1
}
